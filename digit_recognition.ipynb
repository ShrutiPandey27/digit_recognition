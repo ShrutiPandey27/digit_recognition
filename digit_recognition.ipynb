{
  "nbformat": 4,
  "nbformat_minor": 0,
  "metadata": {
    "colab": {
      "name": "digit_recognition.ipynb",
      "provenance": [],
      "authorship_tag": "ABX9TyNFChsfGIgvTexrmZNx/3SE",
      "include_colab_link": true
    },
    "kernelspec": {
      "name": "python3",
      "display_name": "Python 3"
    },
    "language_info": {
      "name": "python"
    }
  },
  "cells": [
    {
      "cell_type": "markdown",
      "metadata": {
        "id": "view-in-github",
        "colab_type": "text"
      },
      "source": [
        "<a href=\"https://colab.research.google.com/github/ShrutiPandey27/digit_recognition/blob/main/digit_recognition.ipynb\" target=\"_parent\"><img src=\"https://colab.research.google.com/assets/colab-badge.svg\" alt=\"Open In Colab\"/></a>"
      ]
    },
    {
      "cell_type": "code",
      "metadata": {
        "id": "JIUd1DbutyZK"
      },
      "source": [
        "import numpy as np\n",
        "import matplotlib.pyplot as plt\n",
        "import pandas as pd\n",
        "from sklearn.tree import DecisionTreeClassifier\n"
      ],
      "execution_count": null,
      "outputs": []
    },
    {
      "cell_type": "code",
      "metadata": {
        "colab": {
          "base_uri": "https://localhost:8080/"
        },
        "id": "eJ_3b1H8w6Gl",
        "outputId": "6e3a2b22-e3c1-47cb-a58c-41ddf7bd48ad"
      },
      "source": [
        "data = pd.read_csv(\"/content/train.csv.zip\")\n",
        "print(data.head())"
      ],
      "execution_count": null,
      "outputs": [
        {
          "output_type": "stream",
          "text": [
            "   label  pixel0  pixel1  pixel2  ...  pixel780  pixel781  pixel782  pixel783\n",
            "0      1       0       0       0  ...         0         0         0         0\n",
            "1      0       0       0       0  ...         0         0         0         0\n",
            "2      1       0       0       0  ...         0         0         0         0\n",
            "3      4       0       0       0  ...         0         0         0         0\n",
            "4      0       0       0       0  ...         0         0         0         0\n",
            "\n",
            "[5 rows x 785 columns]\n"
          ],
          "name": "stdout"
        }
      ]
    },
    {
      "cell_type": "code",
      "metadata": {
        "id": "yGvx8XOaxGZO"
      },
      "source": [
        "data = pd.read_csv(\"/content/train.csv.zip\").values\n"
      ],
      "execution_count": null,
      "outputs": []
    },
    {
      "cell_type": "code",
      "metadata": {
        "colab": {
          "base_uri": "https://localhost:8080/",
          "height": 265
        },
        "id": "ODSmiGCWxGlk",
        "outputId": "e0d59ee7-82cc-4d54-8a11-90b67d5ca47b"
      },
      "source": [
        "clf=DecisionTreeClassifier()\n",
        "\n",
        "#training data\n",
        "X_train=data[0:21000,1:]\n",
        "train_label=data[0:21000,0]\n",
        "clf.fit(X_train,train_label)\n",
        "\n",
        "#testing data\n",
        "X_test=data[21000:,1:]\n",
        "actual_label=data[21000:,0]\n",
        "\n",
        "d=X_test[10]\n",
        "d.shape=(28,28)\n",
        "plt.imshow(255-d,cmap='gray') #white background \n",
        "plt.show()\n",
        "\n"
      ],
      "execution_count": null,
      "outputs": [
        {
          "output_type": "display_data",
          "data": {
            "image/png": "[encoded data removed]",
            "text/plain": [
              "<Figure size 432x288 with 1 Axes>"
            ]
          },
          "metadata": {
            "tags": [],
            "needs_background": "light"
          }
        }
      ]
    },
    {
      "cell_type": "code",
      "metadata": {
        "colab": {
          "base_uri": "https://localhost:8080/",
          "height": 265
        },
        "id": "E9LXVHkLzHFr",
        "outputId": "bb0c4275-12b2-48e9-8f1c-10c125c81c16"
      },
      "source": [
        "X_train=data[0:21000,1:]\n",
        "train_label=data[0:21000,0]\n",
        "clf.fit(X_train,train_label)\n",
        "\n",
        "#testing data\n",
        "X_test=data[21000:,1:]\n",
        "actual_label=data[21000:,0]\n",
        "\n",
        "d=X_test[20]\n",
        "d.shape=(28,28)\n",
        "plt.imshow(d,cmap='BrBG')\n",
        "plt.show()"
      ],
      "execution_count": null,
      "outputs": [
        {
          "output_type": "display_data",
          "data": {
            "image/png": "[encoded data removed]",
            "text/plain": [
              "<Figure size 432x288 with 1 Axes>"
            ]
          },
          "metadata": {
            "tags": [],
            "needs_background": "light"
          }
        }
      ]
    },
    {
      "cell_type": "code",
      "metadata": {
        "colab": {
          "base_uri": "https://localhost:8080/",
          "height": 282
        },
        "id": "jVqffRIlxGwd",
        "outputId": "35dd5c27-1c13-418d-8e13-ddb89d584a11"
      },
      "source": [
        "X_test=data[21000:,1:]\n",
        "actual_label=data[21000:,0]\n",
        "\n",
        "d=X_test[20]\n",
        "d.shape=(28,28)\n",
        "plt.imshow(d,cmap='Blues') \n",
        "print(clf.predict([X_test[20]]))\n",
        "plt.show()"
      ],
      "execution_count": null,
      "outputs": [
        {
          "output_type": "stream",
          "text": [
            "[6]\n"
          ],
          "name": "stdout"
        },
        {
          "output_type": "display_data",
          "data": {
            "image/png": "[encoded data removed]",
            "text/plain": [
              "<Figure size 432x288 with 1 Axes>"
            ]
          },
          "metadata": {
            "tags": [],
            "needs_background": "light"
          }
        }
      ]
    },
    {
      "cell_type": "code",
      "metadata": {
        "colab": {
          "base_uri": "https://localhost:8080/"
        },
        "id": "CM2jYfNM0Hgs",
        "outputId": "d1a04cdf-f8a1-4679-9ea2-d6a40c02b171"
      },
      "source": [
        "p=clf.predict(X_test)\n",
        "count=0\n",
        "for i in range(0,21000):\n",
        "  count+=1 if p[i]==actual_label[i] else 0\n",
        "print(\"accuracy is\",(count/21000)*100)"
      ],
      "execution_count": null,
      "outputs": [
        {
          "output_type": "stream",
          "text": [
            "accuracy is 83.65238095238095\n"
          ],
          "name": "stdout"
        }
      ]
    }
  ]
}